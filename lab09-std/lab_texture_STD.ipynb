{
   "cells": [
      {
         "cell_type": "markdown",
         "metadata": {},
         "source": [
            "# Lab - Texture Analysis"
         ]
      },
      {
         "cell_type": "markdown",
         "metadata": {},
         "source": [
            "## Part A\n",
            "\n",
            "### Objective\n",
            "\n",
            "The goal of this part is to segment the following photo into 3 segments: \n",
            "1. a segment for clothes with a jeans texture\n",
            "2. a segment for clothes with a cotton texture\n",
            "3. a segment for the background\n",
            "\n",
            "<img src='test.jpg' width=100px heigth=300px></img>"
         ]
      },
      {
         "cell_type": "code",
         "execution_count": 21,
         "metadata": {},
         "outputs": [],
         "source": [
            "# All the imports you will need in the whole lab\n",
            "from skimage.feature import graycomatrix, graycoprops\n",
            "from skimage import io\n",
            "from skimage.color import rgb2gray\n",
            "import matplotlib.pyplot as plt\n",
            "import os\n",
            "import numpy as np"
         ]
      },
      {
         "cell_type": "code",
         "execution_count": 22,
         "metadata": {},
         "outputs": [],
         "source": [
            "def show_images(images,titles=None):\n",
            "    #This function is used to show image(s) with titles by sending an array of images and an array of associated titles.\n",
            "    # images[0] will be drawn with the title titles[0] if exists\n",
            "    # You aren't required to understand this function, use it as-is.\n",
            "    n_ims = len(images)\n",
            "    if titles is None: titles = ['(%d)' % i for i in range(1,n_ims + 1)]\n",
            "    fig = plt.figure()\n",
            "    n = 1\n",
            "    for image,title in zip(images,titles):\n",
            "        a = fig.add_subplot(1,n_ims,n)\n",
            "        if image.ndim == 2: \n",
            "            plt.gray()\n",
            "        plt.imshow(image)\n",
            "        a.set_title(title)\n",
            "        n += 1\n",
            "    fig.set_size_inches(np.array(fig.get_size_inches()) * n_ims)\n",
            "    plt.show() \n"
         ]
      },
      {
         "cell_type": "markdown",
         "metadata": {},
         "source": [
            "## Section 1\n",
            "\n",
            "In this section, you will extract features from image samples of the jeans and cotton texture using GLCM, then we will plot our feature space to see if our features are able to differentiate between the textures of jeans, cotton, and background. "
         ]
      },
      {
         "cell_type": "markdown",
         "metadata": {},
         "source": [
            "### TODO Implement get_glcm_features\n",
            "\n",
            "You will need the following two functions:\n",
            "\n",
            "greycomatrix, doc link -> https://scikit-image.org/docs/dev/api/skimage.feature.html#greycomatrix <br>\n",
            "greycoprops, doc link -> https://scikit-image.org/docs/dev/api/skimage.feature.html#skimage.feature.greycoprops"
         ]
      },
      {
         "cell_type": "code",
         "execution_count": 23,
         "metadata": {},
         "outputs": [],
         "source": [
            "def get_glcm_features(gray_scale_img):\n",
            "    \"\"\"\n",
            "    Given a grayscale image with graylevels from 0 - 255, this function returns the contrast\n",
            "    and the homogeneity features of the image with the help of GLCM\n",
            "    \"\"\"\n",
            "    # Tip: Make sure you understand the input-output of everything you write, \n",
            "    # not doing that results in bugs that make you believe the lab is long\n",
            "    # angle 0: right\n",
            "    # angle pi/4: bottom right\n",
            "    GLCM = graycomatrix(gray_scale_img, [1], [0, np.pi/4, np.pi/2, 3*np.pi/4], levels=256)\n",
            "    \n",
            "    contrast = graycoprops(GLCM, 'contrast')\n",
            "    homogeneity = graycoprops(GLCM, 'homogeneity')\n",
            "    return contrast[0,0], homogeneity[0,0]"
         ]
      },
      {
         "cell_type": "markdown",
         "metadata": {},
         "source": [
            "The following part will extract the contrast and homogeneity of samples of jeans and cotton in the folder \"imgs_patches\" using your function. So, for each sample image, we will have a point in a 2D feature space. Then, it will plot this feature space."
         ]
      },
      {
         "cell_type": "code",
         "execution_count": 24,
         "metadata": {},
         "outputs": [
            {
               "name": "stdout",
               "output_type": "stream",
               "text": [
                  "227\n",
                  "66\n",
                  "122\n",
                  "69\n",
                  "130\n",
                  "211\n",
                  "207\n",
                  "242\n",
                  "198\n"
               ]
            },
            {
               "data": {
                  "image/png": "[encoded data removed]",
                  "text/plain": [
                     "<Figure size 936x576 with 1 Axes>"
                  ]
               },
               "metadata": {
                  "needs_background": "light"
               },
               "output_type": "display_data"
            }
         ],
         "source": [
            "# You don't need to understand how this function works\n",
            "def get_fname_images_tuple(directory):\n",
            "    fnames = os.listdir(directory)\n",
            "    to_return = []\n",
            "    for fn in fnames:\n",
            "        if fn[-3:] == 'jpg':\n",
            "            path = os.path.join(directory, fn)\n",
            "            gray_scale_image = (rgb2gray(io.imread(path)) * 255).astype(np.uint8)\n",
            "            to_return.append((fn, gray_scale_image))\n",
            "        else:\n",
            "            print('This file has been skipped', fn)\n",
            "    return to_return\n",
            "\n",
            "# You don't need to understand how this function works\n",
            "def plot_2d_features_with_names(names_fts_list, xlabel, ylabel):\n",
            "    x = [names_fts[1][0] for names_fts in names_fts_list]\n",
            "    y = [names_fts[1][1] for names_fts in names_fts_list]\n",
            "    txts = [names_fts[0] for names_fts in names_fts_list]\n",
            "    \n",
            "    fig, ax = plt.subplots()\n",
            "    ax.scatter(x, y)\n",
            "\n",
            "    for i, txt in enumerate(txts):\n",
            "        ax.annotate(txt, (x[i], y[i]))\n",
            "    ax.grid()\n",
            "    ax.set_xlabel(xlabel)\n",
            "    ax.set_ylabel(ylabel)\n",
            "    fig = plt.gcf()\n",
            "    fig.set_size_inches(13, 8)\n",
            "    \n",
            "    \n",
            "fn_img_list = get_fname_images_tuple(r'imgs_patches')\n",
            "\n",
            "fn_ft_list = []\n",
            "for fn, img in fn_img_list:\n",
            "    print(img.max())\n",
            "    fn_ft_list.append((fn, get_glcm_features(img)))\n",
            "    \n",
            "plot_2d_features_with_names(fn_ft_list, 'contrast', 'homogeneity')"
         ]
      },
      {
         "cell_type": "markdown",
         "metadata": {},
         "source": [
            "## Section 2\n",
            "\n",
            "You should have noticed that the previous section showed us that we can differentiate between jeans, cotton, & background patches using contrast and homogeneity. So, in this section, we will classify an unknown patch into one of those categories using a simple rule-based classifier. This will make us able to segment an image."
         ]
      },
      {
         "cell_type": "code",
         "execution_count": 47,
         "metadata": {},
         "outputs": [],
         "source": [
            "# TODO implement this function\n",
            "\n",
            "def classify_patch(contrast, homogeneity):\n",
            "    \"\"\"\n",
            "    Given the contrast and homogeneity values of a certain image patch, this function \n",
            "    will return the class of the patch, i.e either 'jeans', 'cotton', or 'background'\n",
            "    \"\"\"\n",
            "    # Hint: We can decide whether the patch is background or not by simply checking 'if' the homogeneity is greater than a certain float value\n",
            "    if contrast < 130 and homogeneity < 0.6:\n",
            "        return 'cotton'\n",
            "    elif contrast < 130 and homogeneity > 0.6:\n",
            "        return 'background'\n",
            "    # elif contrast > 300 and homogeneity > 0.6:\n",
            "    return 'jeans'\n",
            "    # return <string of class>"
         ]
      },
      {
         "cell_type": "markdown",
         "metadata": {},
         "source": [
            "### TODO Complete todos in segment_img\n",
            "\n",
            "This function is given an RGB image, and returns the segmented image coloring jeans patches in green, cotton patches in red, and the background in blue. Your final output should look like the following image:\n",
            "\n",
            "<img src='target_output.jpg' width=100px heigth=300px></img>"
         ]
      },
      {
         "cell_type": "code",
         "execution_count": 48,
         "metadata": {},
         "outputs": [],
         "source": [
            "def segment_img(image):\n",
            "    img = image.copy()\n",
            "    patch_height = patch_width = 50\n",
            "    gridWidth = 0\n",
            "    gridVertical = []\n",
            "    # TODO complete the following skeleton\n",
            "    while (gridWidth < img.shape[0]):\n",
            "        gridVertical.append(gridWidth)\n",
            "        gridWidth = gridWidth + patch_width\n",
            "    gridHeight = 0\n",
            "    gridHorizontal = []\n",
            "    while (gridHeight < img.shape[1]):\n",
            "        gridHorizontal.append(gridHeight)\n",
            "        gridHeight = gridHeight + patch_height\n",
            "    # print(gridHorizontal)\n",
            "    # print(gridVertical)\n",
            "    for i in range(1,len(gridVertical)):\n",
            "        for j in range(1,len(gridHorizontal)):\n",
            "            patch = img[gridVertical[i-1]:gridVertical[i], gridHorizontal[j-1]:gridHorizontal[j]]\n",
            "            # show_images([patch], [f\"{gridHorizontal[i-1]}:{gridHorizontal[i]}, {gridVertical[j-1]}:{gridVertical[j]}\"])\n",
            "    # loop on the image patch by patch\n",
            "    # <Outer loop>\n",
            "        # <Inner loop>\n",
            "        # patch = img\n",
            "        \n",
            "            patch_grayscale = (rgb2gray(patch) * 255).astype(np.uint8)\n",
            "            \n",
            "            contrast, homogeneity = get_glcm_features(patch_grayscale)\n",
            "            classification = classify_patch(contrast, homogeneity)\n",
            "            \n",
            "            if classification == 'cotton':\n",
            "                patch[:,:, 0] = 255\n",
            "            elif classification == 'jeans':\n",
            "                patch[:,:, 1] = 255\n",
            "            else:\n",
            "                patch[:,:,2] = 255\n",
            "                \n",
            "    return img"
         ]
      },
      {
         "cell_type": "code",
         "execution_count": 49,
         "metadata": {},
         "outputs": [
            {
               "data": {
                  "text/plain": [
                     "<matplotlib.image.AxesImage at 0x1a50c4d4f70>"
                  ]
               },
               "execution_count": 49,
               "metadata": {},
               "output_type": "execute_result"
            },
            {
               "data": {
                  "image/png": "[encoded data removed]",
                  "text/plain": [
                     "<Figure size 432x288 with 1 Axes>"
                  ]
               },
               "metadata": {
                  "needs_background": "light"
               },
               "output_type": "display_data"
            }
         ],
         "source": [
            "# Testing your work\n",
            "image = io.imread('test.jpg')\n",
            "segmented_image = segment_img(image)\n",
            "io.imshow(segmented_image)"
         ]
      },
      {
         "cell_type": "markdown",
         "metadata": {},
         "source": [
            "## Part B\n",
            "\n",
            "You are required to implement your own function that computes the LBP histogram of a grayscale image (return to lecture slides for reference attached in this lab folder).\n",
            "\n",
            "#### Note: you are allowed to ignore image border pixels."
         ]
      },
      {
         "cell_type": "code",
         "execution_count": null,
         "metadata": {},
         "outputs": [
            {
               "data": {
                  "text/plain": [
                     "63"
                  ]
               },
               "execution_count": 12,
               "metadata": {},
               "output_type": "execute_result"
            }
         ],
         "source": [
            "def binaryToDecimal(binary_8bit_array):\n",
            "    decimal = binary_8bit_array[0]+2*binary_8bit_array[1]+4*binary_8bit_array[2]+8*binary_8bit_array[3]+16*binary_8bit_array[4]+32*binary_8bit_array[5]+64*binary_8bit_array[6]+128*binary_8bit_array[7]\n",
            "    return int(decimal)"
         ]
      },
      {
         "cell_type": "code",
         "execution_count": null,
         "metadata": {},
         "outputs": [],
         "source": [
            "def get_lbp_hist(grayscale_img):\n",
            "    LBP_hist = np.zeros(256)\n",
            "    for x in range(1, grayscale_img.shape[0] - 1):\n",
            "        for y in range(1,grayscale_img.shape[1]  - 1):\n",
            "            binary_val = np.zeros(8)\n",
            "            counter=0\n",
            "            for i in range(3):\n",
            "                for j in range(3):\n",
            "                    if(i==1 and j == 1):\n",
            "                        continue\n",
            "                    if(grayscale_img[x,y] < grayscale_img[x+i-1,y+j-1]):\n",
            "                        binary_val[counter]=1\n",
            "                    else:\n",
            "                        binary_val[counter]=0\n",
            "                    counter +=1\n",
            "            decimal = binaryToDecimal(binary_val)\n",
            "            LBP_hist[decimal]+=1\n",
            "    return LBP_hist\n",
            "\n",
            "# get_lbp_hist([[100,101,100],[40,50,200],[50,100,100]])"
         ]
      },
      {
         "cell_type": "code",
         "execution_count": null,
         "metadata": {},
         "outputs": [
            {
               "data": {
                  "text/plain": [
                     "'ignore function output'"
                  ]
               },
               "execution_count": 18,
               "metadata": {},
               "output_type": "execute_result"
            },
            {
               "data": {
                  "image/png": "[encoded data removed]",
                  "text/plain": [
                     "<Figure size 432x288 with 1 Axes>"
                  ]
               },
               "metadata": {
                  "needs_background": "light"
               },
               "output_type": "display_data"
            }
         ],
         "source": [
            "# Testing your work, we will compare your histogram with that of ours\n",
            "# There should be a noticable difference between the histograms of jeans and cotton\n",
            "img = rgb2gray(io.imread(r'imgs_patches\\jeans1.jpg'))\n",
            "hist = get_lbp_hist(img)\n",
            "plt.hist(hist, bins=range((2 ** 8)))\n",
            "'ignore function output'"
         ]
      },
      {
         "cell_type": "code",
         "execution_count": null,
         "metadata": {},
         "outputs": [
            {
               "data": {
                  "text/plain": [
                     "'ignore function output'"
                  ]
               },
               "execution_count": 19,
               "metadata": {},
               "output_type": "execute_result"
            },
            {
               "data": {
                  "image/png": "[encoded data removed]",
                  "text/plain": [
                     "<Figure size 432x288 with 1 Axes>"
                  ]
               },
               "metadata": {
                  "needs_background": "light"
               },
               "output_type": "display_data"
            }
         ],
         "source": [
            "# Testing your work, we will compare your histogram with that of ours\n",
            "# There should be a noticable difference between the histograms of jeans and cotton\n",
            "img = rgb2gray(io.imread(r'imgs_patches\\cotton1.jpg'))\n",
            "hist = get_lbp_hist(img)\n",
            "plt.hist(hist, bins=range((2 ** 8)))\n",
            "'ignore function output'"
         ]
      },
      {
         "cell_type": "code",
         "execution_count": 5,
         "metadata": {},
         "outputs": [
            {
               "data": {
                  "text/plain": [
                     "(array([[33.,  3.,  0., ...,  0.,  0.,  0.],\n",
                     "        [25.,  2.,  1., ...,  1.,  0.,  4.],\n",
                     "        [36.,  3.,  2., ...,  0.,  1.,  0.],\n",
                     "        ...,\n",
                     "        [36.,  0.,  0., ...,  0.,  0.,  0.],\n",
                     "        [43.,  0.,  0., ...,  0.,  0.,  0.],\n",
                     "        [54.,  0.,  0., ...,  0.,  0.,  0.]]),\n",
                     " array([  0,   1,   2,   3,   4,   5,   6,   7,   8,   9,  10,  11,  12,\n",
                     "         13,  14,  15,  16,  17,  18,  19,  20,  21,  22,  23,  24,  25,\n",
                     "         26,  27,  28,  29,  30,  31,  32,  33,  34,  35,  36,  37,  38,\n",
                     "         39,  40,  41,  42,  43,  44,  45,  46,  47,  48,  49,  50,  51,\n",
                     "         52,  53,  54,  55,  56,  57,  58,  59,  60,  61,  62,  63,  64,\n",
                     "         65,  66,  67,  68,  69,  70,  71,  72,  73,  74,  75,  76,  77,\n",
                     "         78,  79,  80,  81,  82,  83,  84,  85,  86,  87,  88,  89,  90,\n",
                     "         91,  92,  93,  94,  95,  96,  97,  98,  99, 100, 101, 102, 103,\n",
                     "        104, 105, 106, 107, 108, 109, 110, 111, 112, 113, 114, 115, 116,\n",
                     "        117, 118, 119, 120, 121, 122, 123, 124, 125, 126, 127, 128, 129,\n",
                     "        130, 131, 132, 133, 134, 135, 136, 137, 138, 139, 140, 141, 142,\n",
                     "        143, 144, 145, 146, 147, 148, 149, 150, 151, 152, 153, 154, 155,\n",
                     "        156, 157, 158, 159, 160, 161, 162, 163, 164, 165, 166, 167, 168,\n",
                     "        169, 170, 171, 172, 173, 174, 175, 176, 177, 178, 179, 180, 181,\n",
                     "        182, 183, 184, 185, 186, 187, 188, 189, 190, 191, 192, 193, 194,\n",
                     "        195, 196, 197, 198, 199, 200, 201, 202, 203, 204, 205, 206, 207,\n",
                     "        208, 209, 210, 211, 212, 213, 214, 215, 216, 217, 218, 219, 220,\n",
                     "        221, 222, 223, 224, 225, 226, 227, 228, 229, 230, 231, 232, 233,\n",
                     "        234, 235, 236, 237, 238, 239, 240, 241, 242, 243, 244, 245, 246,\n",
                     "        247, 248, 249, 250, 251, 252, 253, 254, 255]),\n",
                     " <a list of 374 BarContainer objects>)"
                  ]
               },
               "execution_count": 5,
               "metadata": {},
               "output_type": "execute_result"
            },
            {
               "name": "stdout",
               "output_type": "stream",
               "text": [
                  "Error in callback <function flush_figures at 0x000002BE543EB700> (for post_execute):\n"
               ]
            },
            {
               "ename": "KeyboardInterrupt",
               "evalue": "",
               "output_type": "error",
               "traceback": [
                  "\u001b[1;31m---------------------------------------------------------------------------\u001b[0m",
                  "\u001b[1;31mKeyboardInterrupt\u001b[0m                         Traceback (most recent call last)",
                  "File \u001b[1;32mc:\\Users\\marky\\anaconda3\\lib\\site-packages\\matplotlib_inline\\backend_inline.py:121\u001b[0m, in \u001b[0;36mflush_figures\u001b[1;34m()\u001b[0m\n\u001b[0;32m    118\u001b[0m \u001b[39mif\u001b[39;00m InlineBackend\u001b[39m.\u001b[39minstance()\u001b[39m.\u001b[39mclose_figures:\n\u001b[0;32m    119\u001b[0m     \u001b[39m# ignore the tracking, just draw and close all figures\u001b[39;00m\n\u001b[0;32m    120\u001b[0m     \u001b[39mtry\u001b[39;00m:\n\u001b[1;32m--> 121\u001b[0m         \u001b[39mreturn\u001b[39;00m show(\u001b[39mTrue\u001b[39;49;00m)\n\u001b[0;32m    122\u001b[0m     \u001b[39mexcept\u001b[39;00m \u001b[39mException\u001b[39;00m \u001b[39mas\u001b[39;00m e:\n\u001b[0;32m    123\u001b[0m         \u001b[39m# safely show traceback if in IPython, else raise\u001b[39;00m\n\u001b[0;32m    124\u001b[0m         ip \u001b[39m=\u001b[39m get_ipython()\n",
                  "File \u001b[1;32mc:\\Users\\marky\\anaconda3\\lib\\site-packages\\matplotlib_inline\\backend_inline.py:41\u001b[0m, in \u001b[0;36mshow\u001b[1;34m(close, block)\u001b[0m\n\u001b[0;32m     39\u001b[0m \u001b[39mtry\u001b[39;00m:\n\u001b[0;32m     40\u001b[0m     \u001b[39mfor\u001b[39;00m figure_manager \u001b[39min\u001b[39;00m Gcf\u001b[39m.\u001b[39mget_all_fig_managers():\n\u001b[1;32m---> 41\u001b[0m         display(\n\u001b[0;32m     42\u001b[0m             figure_manager\u001b[39m.\u001b[39;49mcanvas\u001b[39m.\u001b[39;49mfigure,\n\u001b[0;32m     43\u001b[0m             metadata\u001b[39m=\u001b[39;49m_fetch_figure_metadata(figure_manager\u001b[39m.\u001b[39;49mcanvas\u001b[39m.\u001b[39;49mfigure)\n\u001b[0;32m     44\u001b[0m         )\n\u001b[0;32m     45\u001b[0m \u001b[39mfinally\u001b[39;00m:\n\u001b[0;32m     46\u001b[0m     show\u001b[39m.\u001b[39m_to_draw \u001b[39m=\u001b[39m []\n",
                  "File \u001b[1;32mc:\\Users\\marky\\anaconda3\\lib\\site-packages\\IPython\\core\\display_functions.py:298\u001b[0m, in \u001b[0;36mdisplay\u001b[1;34m(include, exclude, metadata, transient, display_id, raw, clear, *objs, **kwargs)\u001b[0m\n\u001b[0;32m    296\u001b[0m     publish_display_data(data\u001b[39m=\u001b[39mobj, metadata\u001b[39m=\u001b[39mmetadata, \u001b[39m*\u001b[39m\u001b[39m*\u001b[39mkwargs)\n\u001b[0;32m    297\u001b[0m \u001b[39melse\u001b[39;00m:\n\u001b[1;32m--> 298\u001b[0m     format_dict, md_dict \u001b[39m=\u001b[39m \u001b[39mformat\u001b[39;49m(obj, include\u001b[39m=\u001b[39;49minclude, exclude\u001b[39m=\u001b[39;49mexclude)\n\u001b[0;32m    299\u001b[0m     \u001b[39mif\u001b[39;00m \u001b[39mnot\u001b[39;00m format_dict:\n\u001b[0;32m    300\u001b[0m         \u001b[39m# nothing to display (e.g. _ipython_display_ took over)\u001b[39;00m\n\u001b[0;32m    301\u001b[0m         \u001b[39mcontinue\u001b[39;00m\n",
                  "File \u001b[1;32mc:\\Users\\marky\\anaconda3\\lib\\site-packages\\IPython\\core\\formatters.py:178\u001b[0m, in \u001b[0;36mDisplayFormatter.format\u001b[1;34m(self, obj, include, exclude)\u001b[0m\n\u001b[0;32m    176\u001b[0m md \u001b[39m=\u001b[39m \u001b[39mNone\u001b[39;00m\n\u001b[0;32m    177\u001b[0m \u001b[39mtry\u001b[39;00m:\n\u001b[1;32m--> 178\u001b[0m     data \u001b[39m=\u001b[39m formatter(obj)\n\u001b[0;32m    179\u001b[0m \u001b[39mexcept\u001b[39;00m:\n\u001b[0;32m    180\u001b[0m     \u001b[39m# FIXME: log the exception\u001b[39;00m\n\u001b[0;32m    181\u001b[0m     \u001b[39mraise\u001b[39;00m\n",
                  "File \u001b[1;32mc:\\Users\\marky\\anaconda3\\lib\\site-packages\\decorator.py:232\u001b[0m, in \u001b[0;36mdecorate.<locals>.fun\u001b[1;34m(*args, **kw)\u001b[0m\n\u001b[0;32m    230\u001b[0m \u001b[39mif\u001b[39;00m \u001b[39mnot\u001b[39;00m kwsyntax:\n\u001b[0;32m    231\u001b[0m     args, kw \u001b[39m=\u001b[39m fix(args, kw, sig)\n\u001b[1;32m--> 232\u001b[0m \u001b[39mreturn\u001b[39;00m caller(func, \u001b[39m*\u001b[39m(extras \u001b[39m+\u001b[39m args), \u001b[39m*\u001b[39m\u001b[39m*\u001b[39mkw)\n",
                  "File \u001b[1;32mc:\\Users\\marky\\anaconda3\\lib\\site-packages\\IPython\\core\\formatters.py:222\u001b[0m, in \u001b[0;36mcatch_format_error\u001b[1;34m(method, self, *args, **kwargs)\u001b[0m\n\u001b[0;32m    220\u001b[0m \u001b[39m\"\"\"show traceback on failed format call\"\"\"\u001b[39;00m\n\u001b[0;32m    221\u001b[0m \u001b[39mtry\u001b[39;00m:\n\u001b[1;32m--> 222\u001b[0m     r \u001b[39m=\u001b[39m method(\u001b[39mself\u001b[39m, \u001b[39m*\u001b[39margs, \u001b[39m*\u001b[39m\u001b[39m*\u001b[39mkwargs)\n\u001b[0;32m    223\u001b[0m \u001b[39mexcept\u001b[39;00m \u001b[39mNotImplementedError\u001b[39;00m:\n\u001b[0;32m    224\u001b[0m     \u001b[39m# don't warn on NotImplementedErrors\u001b[39;00m\n\u001b[0;32m    225\u001b[0m     \u001b[39mreturn\u001b[39;00m \u001b[39mself\u001b[39m\u001b[39m.\u001b[39m_check_return(\u001b[39mNone\u001b[39;00m, args[\u001b[39m0\u001b[39m])\n",
                  "File \u001b[1;32mc:\\Users\\marky\\anaconda3\\lib\\site-packages\\IPython\\core\\formatters.py:339\u001b[0m, in \u001b[0;36mBaseFormatter.__call__\u001b[1;34m(self, obj)\u001b[0m\n\u001b[0;32m    337\u001b[0m     \u001b[39mpass\u001b[39;00m\n\u001b[0;32m    338\u001b[0m \u001b[39melse\u001b[39;00m:\n\u001b[1;32m--> 339\u001b[0m     \u001b[39mreturn\u001b[39;00m printer(obj)\n\u001b[0;32m    340\u001b[0m \u001b[39m# Finally look for special method names\u001b[39;00m\n\u001b[0;32m    341\u001b[0m method \u001b[39m=\u001b[39m get_real_method(obj, \u001b[39mself\u001b[39m\u001b[39m.\u001b[39mprint_method)\n",
                  "File \u001b[1;32mc:\\Users\\marky\\anaconda3\\lib\\site-packages\\IPython\\core\\pylabtools.py:151\u001b[0m, in \u001b[0;36mprint_figure\u001b[1;34m(fig, fmt, bbox_inches, base64, **kwargs)\u001b[0m\n\u001b[0;32m    148\u001b[0m     \u001b[39mfrom\u001b[39;00m \u001b[39mmatplotlib\u001b[39;00m\u001b[39m.\u001b[39;00m\u001b[39mbackend_bases\u001b[39;00m \u001b[39mimport\u001b[39;00m FigureCanvasBase\n\u001b[0;32m    149\u001b[0m     FigureCanvasBase(fig)\n\u001b[1;32m--> 151\u001b[0m fig\u001b[39m.\u001b[39mcanvas\u001b[39m.\u001b[39mprint_figure(bytes_io, \u001b[39m*\u001b[39m\u001b[39m*\u001b[39mkw)\n\u001b[0;32m    152\u001b[0m data \u001b[39m=\u001b[39m bytes_io\u001b[39m.\u001b[39mgetvalue()\n\u001b[0;32m    153\u001b[0m \u001b[39mif\u001b[39;00m fmt \u001b[39m==\u001b[39m \u001b[39m'\u001b[39m\u001b[39msvg\u001b[39m\u001b[39m'\u001b[39m:\n",
                  "File \u001b[1;32mc:\\Users\\marky\\anaconda3\\lib\\site-packages\\matplotlib\\backend_bases.py:2299\u001b[0m, in \u001b[0;36mFigureCanvasBase.print_figure\u001b[1;34m(self, filename, dpi, facecolor, edgecolor, orientation, format, bbox_inches, pad_inches, bbox_extra_artists, backend, **kwargs)\u001b[0m\n\u001b[0;32m   2297\u001b[0m \u001b[39mif\u001b[39;00m bbox_inches:\n\u001b[0;32m   2298\u001b[0m     \u001b[39mif\u001b[39;00m bbox_inches \u001b[39m==\u001b[39m \u001b[39m\"\u001b[39m\u001b[39mtight\u001b[39m\u001b[39m\"\u001b[39m:\n\u001b[1;32m-> 2299\u001b[0m         bbox_inches \u001b[39m=\u001b[39m \u001b[39mself\u001b[39;49m\u001b[39m.\u001b[39;49mfigure\u001b[39m.\u001b[39;49mget_tightbbox(\n\u001b[0;32m   2300\u001b[0m             renderer, bbox_extra_artists\u001b[39m=\u001b[39;49mbbox_extra_artists)\n\u001b[0;32m   2301\u001b[0m         \u001b[39mif\u001b[39;00m pad_inches \u001b[39mis\u001b[39;00m \u001b[39mNone\u001b[39;00m:\n\u001b[0;32m   2302\u001b[0m             pad_inches \u001b[39m=\u001b[39m rcParams[\u001b[39m'\u001b[39m\u001b[39msavefig.pad_inches\u001b[39m\u001b[39m'\u001b[39m]\n",
                  "File \u001b[1;32mc:\\Users\\marky\\anaconda3\\lib\\site-packages\\matplotlib\\figure.py:1658\u001b[0m, in \u001b[0;36mFigureBase.get_tightbbox\u001b[1;34m(self, renderer, bbox_extra_artists)\u001b[0m\n\u001b[0;32m   1654\u001b[0m     \u001b[39melse\u001b[39;00m:\n\u001b[0;32m   1655\u001b[0m         \u001b[39m# subfigures do not have bbox_inches, but do have a bbox\u001b[39;00m\n\u001b[0;32m   1656\u001b[0m         bb \u001b[39m=\u001b[39m [\u001b[39mself\u001b[39m\u001b[39m.\u001b[39mbbox]\n\u001b[1;32m-> 1658\u001b[0m _bbox \u001b[39m=\u001b[39m Bbox\u001b[39m.\u001b[39;49munion(bb)\n\u001b[0;32m   1660\u001b[0m \u001b[39mif\u001b[39;00m isfigure:\n\u001b[0;32m   1661\u001b[0m     \u001b[39m# transform from pixels to inches...\u001b[39;00m\n\u001b[0;32m   1662\u001b[0m     _bbox \u001b[39m=\u001b[39m TransformedBbox(_bbox, \u001b[39mself\u001b[39m\u001b[39m.\u001b[39mdpi_scale_trans\u001b[39m.\u001b[39minverted())\n",
                  "File \u001b[1;32mc:\\Users\\marky\\anaconda3\\lib\\site-packages\\matplotlib\\transforms.py:668\u001b[0m, in \u001b[0;36mBboxBase.union\u001b[1;34m(bboxes)\u001b[0m\n\u001b[0;32m    666\u001b[0m     \u001b[39mraise\u001b[39;00m \u001b[39mValueError\u001b[39;00m(\u001b[39m\"\u001b[39m\u001b[39m'\u001b[39m\u001b[39mbboxes\u001b[39m\u001b[39m'\u001b[39m\u001b[39m cannot be empty\u001b[39m\u001b[39m\"\u001b[39m)\n\u001b[0;32m    667\u001b[0m x0 \u001b[39m=\u001b[39m np\u001b[39m.\u001b[39mmin([bbox\u001b[39m.\u001b[39mxmin \u001b[39mfor\u001b[39;00m bbox \u001b[39min\u001b[39;00m bboxes])\n\u001b[1;32m--> 668\u001b[0m x1 \u001b[39m=\u001b[39m np\u001b[39m.\u001b[39mmax([bbox\u001b[39m.\u001b[39mxmax \u001b[39mfor\u001b[39;00m bbox \u001b[39min\u001b[39;00m bboxes])\n\u001b[0;32m    669\u001b[0m y0 \u001b[39m=\u001b[39m np\u001b[39m.\u001b[39mmin([bbox\u001b[39m.\u001b[39mymin \u001b[39mfor\u001b[39;00m bbox \u001b[39min\u001b[39;00m bboxes])\n\u001b[0;32m    670\u001b[0m y1 \u001b[39m=\u001b[39m np\u001b[39m.\u001b[39mmax([bbox\u001b[39m.\u001b[39mymax \u001b[39mfor\u001b[39;00m bbox \u001b[39min\u001b[39;00m bboxes])\n",
                  "File \u001b[1;32mc:\\Users\\marky\\anaconda3\\lib\\site-packages\\matplotlib\\transforms.py:668\u001b[0m, in \u001b[0;36m<listcomp>\u001b[1;34m(.0)\u001b[0m\n\u001b[0;32m    666\u001b[0m     \u001b[39mraise\u001b[39;00m \u001b[39mValueError\u001b[39;00m(\u001b[39m\"\u001b[39m\u001b[39m'\u001b[39m\u001b[39mbboxes\u001b[39m\u001b[39m'\u001b[39m\u001b[39m cannot be empty\u001b[39m\u001b[39m\"\u001b[39m)\n\u001b[0;32m    667\u001b[0m x0 \u001b[39m=\u001b[39m np\u001b[39m.\u001b[39mmin([bbox\u001b[39m.\u001b[39mxmin \u001b[39mfor\u001b[39;00m bbox \u001b[39min\u001b[39;00m bboxes])\n\u001b[1;32m--> 668\u001b[0m x1 \u001b[39m=\u001b[39m np\u001b[39m.\u001b[39mmax([bbox\u001b[39m.\u001b[39;49mxmax \u001b[39mfor\u001b[39;00m bbox \u001b[39min\u001b[39;00m bboxes])\n\u001b[0;32m    669\u001b[0m y0 \u001b[39m=\u001b[39m np\u001b[39m.\u001b[39mmin([bbox\u001b[39m.\u001b[39mymin \u001b[39mfor\u001b[39;00m bbox \u001b[39min\u001b[39;00m bboxes])\n\u001b[0;32m    670\u001b[0m y1 \u001b[39m=\u001b[39m np\u001b[39m.\u001b[39mmax([bbox\u001b[39m.\u001b[39mymax \u001b[39mfor\u001b[39;00m bbox \u001b[39min\u001b[39;00m bboxes])\n",
                  "File \u001b[1;32mc:\\Users\\marky\\anaconda3\\lib\\site-packages\\matplotlib\\transforms.py:339\u001b[0m, in \u001b[0;36mBboxBase.xmax\u001b[1;34m(self)\u001b[0m\n\u001b[0;32m    336\u001b[0m \u001b[39m@property\u001b[39m\n\u001b[0;32m    337\u001b[0m \u001b[39mdef\u001b[39;00m \u001b[39mxmax\u001b[39m(\u001b[39mself\u001b[39m):\n\u001b[0;32m    338\u001b[0m     \u001b[39m\"\"\"The right edge of the bounding box.\"\"\"\u001b[39;00m\n\u001b[1;32m--> 339\u001b[0m     \u001b[39mreturn\u001b[39;00m np\u001b[39m.\u001b[39;49mmax(\u001b[39mself\u001b[39;49m\u001b[39m.\u001b[39;49mget_points()[:, \u001b[39m0\u001b[39;49m])\n",
                  "File \u001b[1;32m<__array_function__ internals>:4\u001b[0m, in \u001b[0;36mamax\u001b[1;34m(*args, **kwargs)\u001b[0m\n",
                  "\u001b[1;31mKeyboardInterrupt\u001b[0m: "
               ]
            }
         ],
         "source": [
            "from skimage.feature import local_binary_pattern\n",
            "img = rgb2gray(io.imread(r'imgs_patches\\cotton1.jpg'))\n",
            "hist = local_binary_pattern(img,8,3,method=\"default\")\n",
            "plt.hist(hist, bins=range((2 ** 8)))"
         ]
      }
   ],
   "metadata": {
      "kernelspec": {
         "display_name": "base",
         "language": "python",
         "name": "python3"
      },
      "language_info": {
         "codemirror_mode": {
            "name": "ipython",
            "version": 3
         },
         "file_extension": ".py",
         "mimetype": "text/x-python",
         "name": "python",
         "nbconvert_exporter": "python",
         "pygments_lexer": "ipython3",
         "version": "3.9.12"
      },
      "vscode": {
         "interpreter": {
            "hash": "caae8ea287d7680a794fd8d722e98ed9c81854c843909096fd6e250fcd002375"
         }
      }
   },
   "nbformat": 4,
   "nbformat_minor": 2
}