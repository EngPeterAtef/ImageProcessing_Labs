{
   "cells": [
      {
         "cell_type": "markdown",
         "metadata": {},
         "source": [
            "# Lab - Texture Analysis"
         ]
      },
      {
         "cell_type": "markdown",
         "metadata": {},
         "source": [
            "## Part A\n",
            "\n",
            "### Objective\n",
            "\n",
            "The goal of this part is to segment the following photo into 3 segments: \n",
            "1. a segment for clothes with a jeans texture\n",
            "2. a segment for clothes with a cotton texture\n",
            "3. a segment for the background\n",
            "\n",
            "<img src='test.jpg' width=100px heigth=300px></img>"
         ]
      },
      {
         "cell_type": "code",
         "execution_count": 5,
         "metadata": {},
         "outputs": [],
         "source": [
            "# All the imports you will need in the whole lab\n",
            "from skimage.feature import graycomatrix, graycoprops\n",
            "from skimage import io\n",
            "from skimage.color import rgb2gray\n",
            "import matplotlib.pyplot as plt\n",
            "import os\n",
            "import numpy as np"
         ]
      },
      {
         "cell_type": "code",
         "execution_count": 6,
         "metadata": {},
         "outputs": [],
         "source": [
            "def show_images(images,titles=None):\n",
            "    #This function is used to show image(s) with titles by sending an array of images and an array of associated titles.\n",
            "    # images[0] will be drawn with the title titles[0] if exists\n",
            "    # You aren't required to understand this function, use it as-is.\n",
            "    n_ims = len(images)\n",
            "    if titles is None: titles = ['(%d)' % i for i in range(1,n_ims + 1)]\n",
            "    fig = plt.figure()\n",
            "    n = 1\n",
            "    for image,title in zip(images,titles):\n",
            "        a = fig.add_subplot(1,n_ims,n)\n",
            "        if image.ndim == 2: \n",
            "            plt.gray()\n",
            "        plt.imshow(image)\n",
            "        a.set_title(title)\n",
            "        n += 1\n",
            "    fig.set_size_inches(np.array(fig.get_size_inches()) * n_ims)\n",
            "    plt.show() \n"
         ]
      },
      {
         "cell_type": "markdown",
         "metadata": {},
         "source": [
            "## Section 1\n",
            "\n",
            "In this section, you will extract features from image samples of the jeans and cotton texture using GLCM, then we will plot our feature space to see if our features are able to differentiate between the textures of jeans, cotton, and background. "
         ]
      },
      {
         "cell_type": "markdown",
         "metadata": {},
         "source": [
            "### TODO Implement get_glcm_features\n",
            "\n",
            "You will need the following two functions:\n",
            "\n",
            "greycomatrix, doc link -> https://scikit-image.org/docs/dev/api/skimage.feature.html#greycomatrix <br>\n",
            "greycoprops, doc link -> https://scikit-image.org/docs/dev/api/skimage.feature.html#skimage.feature.greycoprops"
         ]
      },
      {
         "cell_type": "code",
         "execution_count": 7,
         "metadata": {},
         "outputs": [],
         "source": [
            "def get_glcm_features(gray_scale_img):\n",
            "    \"\"\"\n",
            "    Given a grayscale image with graylevels from 0 - 255, this function returns the contrast\n",
            "    and the homogeneity features of the image with the help of GLCM\n",
            "    \"\"\"\n",
            "    # Tip: Make sure you understand the input-output of everything you write, \n",
            "    # not doing that results in bugs that make you believe the lab is long\n",
            "    # angle 0: right\n",
            "    # angle pi/4: bottom right\n",
            "    GLCM = graycomatrix(gray_scale_img, [1], [0, np.pi/4, np.pi/2, 3*np.pi/4], levels=256)#the output is 4 matrices, each one is a GLCM 34an 3andna 1 distance and 4 angles 1*4 = 4 matrices\n",
            "    # array of GLCMs 34an hoa bya7sb kol distance fel array m3 kol angle badhalo = graycomatrix(gray_scale_img,\n",
            "    #  array of distance ali habos 3laha, array of angles ali habos 3laha, levels=no of gray levels in the image)\n",
            "    \n",
            "    contrast = graycoprops(GLCM, 'contrast')\n",
            "    homogeneity = graycoprops(GLCM, 'homogeneity')\n",
            "    return contrast[0,0], homogeneity[0,0]"
         ]
      },
      {
         "cell_type": "markdown",
         "metadata": {},
         "source": [
            "The following part will extract the contrast and homogeneity of samples of jeans and cotton in the folder \"imgs_patches\" using your function. So, for each sample image, we will have a point in a 2D feature space. Then, it will plot this feature space."
         ]
      },
      {
         "cell_type": "code",
         "execution_count": 8,
         "metadata": {},
         "outputs": [
            {
               "name": "stdout",
               "output_type": "stream",
               "text": [
                  "227\n",
                  "66\n",
                  "122\n",
                  "69\n",
                  "130\n",
                  "211\n",
                  "207\n",
                  "242\n",
                  "198\n"
               ]
            },
            {
               "data": {
                  "image/png": "[encoded data removed]",
                  "text/plain": [
                     "<Figure size 936x576 with 1 Axes>"
                  ]
               },
               "metadata": {
                  "needs_background": "light"
               },
               "output_type": "display_data"
            }
         ],
         "source": [
            "# You don't need to understand how this function works\n",
            "def get_fname_images_tuple(directory):\n",
            "    fnames = os.listdir(directory)\n",
            "    to_return = []\n",
            "    for fn in fnames:\n",
            "        if fn[-3:] == 'jpg':\n",
            "            path = os.path.join(directory, fn)\n",
            "            gray_scale_image = (rgb2gray(io.imread(path)) * 255).astype(np.uint8)\n",
            "            to_return.append((fn, gray_scale_image))\n",
            "        else:\n",
            "            print('This file has been skipped', fn)\n",
            "    return to_return\n",
            "\n",
            "# You don't need to understand how this function works\n",
            "def plot_2d_features_with_names(names_fts_list, xlabel, ylabel):\n",
            "    x = [names_fts[1][0] for names_fts in names_fts_list]\n",
            "    y = [names_fts[1][1] for names_fts in names_fts_list]\n",
            "    txts = [names_fts[0] for names_fts in names_fts_list]\n",
            "    \n",
            "    fig, ax = plt.subplots()\n",
            "    ax.scatter(x, y)\n",
            "\n",
            "    for i, txt in enumerate(txts):\n",
            "        ax.annotate(txt, (x[i], y[i]))\n",
            "    ax.grid()\n",
            "    ax.set_xlabel(xlabel)\n",
            "    ax.set_ylabel(ylabel)\n",
            "    fig = plt.gcf()\n",
            "    fig.set_size_inches(13, 8)\n",
            "    \n",
            "    \n",
            "fn_img_list = get_fname_images_tuple(r'imgs_patches')\n",
            "\n",
            "fn_ft_list = []\n",
            "for fn, img in fn_img_list:\n",
            "    print(img.max())\n",
            "    fn_ft_list.append((fn, get_glcm_features(img)))\n",
            "    \n",
            "plot_2d_features_with_names(fn_ft_list, 'contrast', 'homogeneity')"
         ]
      },
      {
         "cell_type": "markdown",
         "metadata": {},
         "source": [
            "## Section 2\n",
            "\n",
            "You should have noticed that the previous section showed us that we can differentiate between jeans, cotton, & background patches using contrast and homogeneity. So, in this section, we will classify an unknown patch into one of those categories using a simple rule-based classifier. This will make us able to segment an image."
         ]
      },
      {
         "cell_type": "code",
         "execution_count": 9,
         "metadata": {},
         "outputs": [],
         "source": [
            "# TODO implement this function\n",
            "\n",
            "def classify_patch(contrast, homogeneity):\n",
            "    \"\"\"\n",
            "    Given the contrast and homogeneity values of a certain image patch, this function \n",
            "    will return the class of the patch, i.e either 'jeans', 'cotton', or 'background'\n",
            "    \"\"\"\n",
            "    # Hint: We can decide whether the patch is background or not by simply checking 'if' the homogeneity is greater than a certain float value\n",
            "    if contrast < 200 and homogeneity < 0.7:\n",
            "        return 'cotton'\n",
            "    elif contrast < 200 and homogeneity > 0.7:\n",
            "        return 'background'\n",
            "    # elif contrast > 300 and homogeneity > 0.6:\n",
            "    return 'jeans'\n",
            "    # return <string of class>"
         ]
      },
      {
         "cell_type": "markdown",
         "metadata": {},
         "source": [
            "### TODO Complete todos in segment_img\n",
            "\n",
            "This function is given an RGB image, and returns the segmented image coloring jeans patches in green, cotton patches in red, and the background in blue. Your final output should look like the following image:\n",
            "\n",
            "<img src='target_output.jpg' width=100px heigth=300px></img>"
         ]
      },
      {
         "cell_type": "code",
         "execution_count": 10,
         "metadata": {},
         "outputs": [],
         "source": [
            "def segment_img(image):\n",
            "    img = image.copy()\n",
            "    patch_height = patch_width = 50\n",
            "    gridWidth = 0\n",
            "    gridVertical = []\n",
            "    # TODO complete the following skeleton\n",
            "    while (gridWidth < img.shape[0]):\n",
            "        gridVertical.append(gridWidth)\n",
            "        gridWidth = gridWidth + patch_width\n",
            "    gridHeight = 0\n",
            "    gridHorizontal = []\n",
            "    while (gridHeight < img.shape[1]):\n",
            "        gridHorizontal.append(gridHeight)\n",
            "        gridHeight = gridHeight + patch_height\n",
            "    # print(gridHorizontal)\n",
            "    # print(gridVertical)\n",
            "    for i in range(1,len(gridVertical)):\n",
            "        for j in range(1,len(gridHorizontal)):\n",
            "            patch = img[gridVertical[i-1]:gridVertical[i], gridHorizontal[j-1]:gridHorizontal[j]]\n",
            "            # show_images([patch], [f\"{gridHorizontal[i-1]}:{gridHorizontal[i]}, {gridVertical[j-1]}:{gridVertical[j]}\"])\n",
            "    # loop on the image patch by patch\n",
            "    # <Outer loop>\n",
            "        # <Inner loop>\n",
            "        # patch = img\n",
            "        \n",
            "            patch_grayscale = (rgb2gray(patch) * 255).astype(np.uint8)\n",
            "            \n",
            "            contrast, homogeneity = get_glcm_features(patch_grayscale)\n",
            "            classification = classify_patch(contrast, homogeneity)\n",
            "            \n",
            "            if classification == 'cotton':\n",
            "                patch[:,:, 0] = 255\n",
            "            elif classification == 'jeans':\n",
            "                patch[:,:, 1] = 255\n",
            "            else:\n",
            "                patch[:,:,2] = 255\n",
            "                \n",
            "    return img"
         ]
      },
      {
         "cell_type": "code",
         "execution_count": 11,
         "metadata": {},
         "outputs": [
            {
               "data": {
                  "text/plain": [
                     "<matplotlib.image.AxesImage at 0x131095b2d30>"
                  ]
               },
               "execution_count": 11,
               "metadata": {},
               "output_type": "execute_result"
            },
            {
               "data": {
                  "image/png": "[encoded data removed]",
                  "text/plain": [
                     "<Figure size 432x288 with 1 Axes>"
                  ]
               },
               "metadata": {
                  "needs_background": "light"
               },
               "output_type": "display_data"
            }
         ],
         "source": [
            "# Testing your work\n",
            "image = io.imread('test.jpg')\n",
            "segmented_image = segment_img(image)\n",
            "io.imshow(segmented_image)"
         ]
      },
      {
         "cell_type": "markdown",
         "metadata": {},
         "source": [
            "## Part B\n",
            "\n",
            "You are required to implement your own function that computes the LBP histogram of a grayscale image (return to lecture slides for reference attached in this lab folder).\n",
            "\n",
            "#### Note: you are allowed to ignore image border pixels."
         ]
      },
      {
         "cell_type": "code",
         "execution_count": 12,
         "metadata": {},
         "outputs": [],
         "source": [
            "def binaryToDecimal(binary_8bit_array):\n",
            "    decimal = binary_8bit_array[0]+2*binary_8bit_array[1]+4*binary_8bit_array[2]+8*binary_8bit_array[3]+16*binary_8bit_array[4]+32*binary_8bit_array[5]+64*binary_8bit_array[6]+128*binary_8bit_array[7]\n",
            "    return int(decimal)"
         ]
      },
      {
         "cell_type": "code",
         "execution_count": 13,
         "metadata": {},
         "outputs": [],
         "source": [
            "def get_lbp_hist(grayscale_img):\n",
            "    LBP_hist = np.zeros(256)\n",
            "    for x in range(1, grayscale_img.shape[0] - 1):\n",
            "        for y in range(1,grayscale_img.shape[1]  - 1):\n",
            "            binary_val = np.zeros(8)#8 neighbors\n",
            "            counter=0\n",
            "            for i in range(3):\n",
            "                for j in range(3):\n",
            "                    if(i==1 and j == 1):\n",
            "                        continue\n",
            "                    if(grayscale_img[x,y] < grayscale_img[x+i-1,y+j-1]):\n",
            "                        binary_val[counter]=1\n",
            "                    else:\n",
            "                        binary_val[counter]=0\n",
            "                    counter +=1\n",
            "            decimal = binaryToDecimal(binary_val)\n",
            "            LBP_hist[decimal]+=1\n",
            "    return LBP_hist\n",
            "\n",
            "# get_lbp_hist([[100,101,100],[40,50,200],[50,100,100]])"
         ]
      },
      {
         "cell_type": "code",
         "execution_count": 14,
         "metadata": {},
         "outputs": [
            {
               "data": {
                  "text/plain": [
                     "'ignore function output'"
                  ]
               },
               "execution_count": 14,
               "metadata": {},
               "output_type": "execute_result"
            },
            {
               "data": {
                  "image/png": "[encoded data removed]",
                  "text/plain": [
                     "<Figure size 432x288 with 1 Axes>"
                  ]
               },
               "metadata": {
                  "needs_background": "light"
               },
               "output_type": "display_data"
            }
         ],
         "source": [
            "# Testing your work, we will compare your histogram with that of ours\n",
            "# There should be a noticable difference between the histograms of jeans and cotton\n",
            "img = rgb2gray(io.imread(r'imgs_patches\\jeans1.jpg'))\n",
            "hist = get_lbp_hist(img)\n",
            "plt.hist(hist, bins=range((2 ** 8)))\n",
            "'ignore function output'"
         ]
      },
      {
         "cell_type": "code",
         "execution_count": 15,
         "metadata": {},
         "outputs": [
            {
               "data": {
                  "text/plain": [
                     "'ignore function output'"
                  ]
               },
               "execution_count": 15,
               "metadata": {},
               "output_type": "execute_result"
            },
            {
               "data": {
                  "image/png": "[encoded data removed]",
                  "text/plain": [
                     "<Figure size 432x288 with 1 Axes>"
                  ]
               },
               "metadata": {
                  "needs_background": "light"
               },
               "output_type": "display_data"
            }
         ],
         "source": [
            "# Testing your work, we will compare your histogram with that of ours\n",
            "# There should be a noticable difference between the histograms of jeans and cotton\n",
            "img = rgb2gray(io.imread(r'imgs_patches\\cotton1.jpg'))\n",
            "hist = get_lbp_hist(img)\n",
            "plt.hist(hist, bins=range((2 ** 8)))\n",
            "'ignore function output'"
         ]
      }
   ],
   "metadata": {
      "kernelspec": {
         "display_name": "base",
         "language": "python",
         "name": "python3"
      },
      "language_info": {
         "codemirror_mode": {
            "name": "ipython",
            "version": 3
         },
         "file_extension": ".py",
         "mimetype": "text/x-python",
         "name": "python",
         "nbconvert_exporter": "python",
         "pygments_lexer": "ipython3",
         "version": "3.9.12 (main, Apr  4 2022, 05:22:27) [MSC v.1916 64 bit (AMD64)]"
      },
      "vscode": {
         "interpreter": {
            "hash": "49cb93f377a7abe7414b7b0f21fb3017538004a126cf690fb524202736b7fb92"
         }
      }
   },
   "nbformat": 4,
   "nbformat_minor": 2
}
