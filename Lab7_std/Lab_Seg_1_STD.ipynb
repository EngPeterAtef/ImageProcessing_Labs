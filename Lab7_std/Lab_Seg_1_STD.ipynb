{
 "cells": [
  {
   "cell_type": "markdown",
   "metadata": {},
   "source": [
    "# Lab Segmentation 1"
   ]
  },
  {
   "cell_type": "code",
   "execution_count": null,
   "metadata": {},
   "outputs": [],
   "source": [
    "from commonfunctions import *\n",
    "%matplotlib inline\n",
    "%load_ext autoreload\n",
    "%autoreload 2"
   ]
  },
  {
   "cell_type": "code",
   "execution_count": null,
   "metadata": {},
   "outputs": [],
   "source": [
    "## For all requirements: The quality of the results is evaluated.\n",
    "\n",
    "\n",
    "# 1- Read the image \n",
    "# [VERY IMPORTANT] and convert it to float: image = image.astype(float)\n",
    "\n",
    "# read image golf\n",
    "\n",
    "\n",
    "\n",
    "# 2- Retreive the 3 channels of the image(R,G,B) (will be used in the coming steps)\n",
    "\n",
    "\n",
    "# 3- Visually (not by code) detect the dominating color channel (C) for the backgroung (R, G or B)\n",
    "\n",
    "# 4- Draw the dominating channel (r, g or b) thresholded by some threshold (to make sure your choice is meaningful)\n",
    "\n",
    "\n",
    "# 5- Get an intuitive way(There is a very simple way) to make a mask that can get the pixels where the values of the dominating channels \n",
    "# have larger values than the other channels with an appropriate threshold\n",
    "\n",
    "# 6- display the binarized image\n",
    "\n",
    "\n",
    "\n",
    "\n"
   ]
  },
  {
   "cell_type": "code",
   "execution_count": null,
   "metadata": {},
   "outputs": [],
   "source": [
    "# 1- Get the required RGB color (Using a color picker)\n",
    "\n",
    "\n",
    "# 2- Read image\n",
    "\n",
    "# 3- extract R, G and B channels (as float)\n",
    "\n",
    "# 4- calculate differences FOR EACH CHANNEL (between the image and the required pixel value)\n",
    "\n",
    "# 5- calculate overall distance from the given RGB color (use any appropriate distance measure, take care of the minus distances)\n",
    "\n",
    "# 6-  create a mask by thresholding the differences\n",
    "\n",
    "# 7- In the input image, Replace the pixels of the mask with the following color\n",
    "# R = 230 , G = 90 , B=40\n",
    "\n",
    "# 8- show the image or save it\n"
   ]
  },
  {
   "cell_type": "code",
   "execution_count": null,
   "metadata": {},
   "outputs": [],
   "source": []
  },
  {
   "cell_type": "code",
   "execution_count": null,
   "metadata": {},
   "outputs": [],
   "source": []
  }
 ],
 "metadata": {
  "kernelspec": {
   "display_name": "Python 3.8.10 64-bit",
   "language": "python",
   "name": "python3"
  },
  "language_info": {
   "codemirror_mode": {
    "name": "ipython",
    "version": 3
   },
   "file_extension": ".py",
   "mimetype": "text/x-python",
   "name": "python",
   "nbconvert_exporter": "python",
   "pygments_lexer": "ipython3",
   "version": "3.8.10"
  },
  "vscode": {
   "interpreter": {
    "hash": "916dbcbb3f70747c44a77c7bcd40155683ae19c65e1c03b4aa3499c5328201f1"
   }
  }
 },
 "nbformat": 4,
 "nbformat_minor": 2
}
